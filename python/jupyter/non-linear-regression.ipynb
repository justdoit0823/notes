{
 "cells": [
  {
   "cell_type": "code",
   "execution_count": 1,
   "metadata": {},
   "outputs": [],
   "source": [
    "import matplotlib.pyplot as plt\n",
    "import numpy as np\n",
    "from scipy.optimize import minimize"
   ]
  },
  {
   "cell_type": "code",
   "execution_count": 2,
   "metadata": {},
   "outputs": [],
   "source": [
    "w = [5, 6]\n",
    "n_sample = 100\n",
    "x0 = -5 + 12 * np.random.random_sample(n_sample)\n",
    "x1 = -6 + 15 * np.random.random_sample(n_sample)\n",
    "b = -1 + 2 * np.random.random_sample(n_sample)\n",
    "y = np.array([w[0], w[1] ** 2]).dot(np.stack([x0, x1])) + b\n",
    "\n",
    "X0, X1 = np.meshgrid(x0, x1)\n",
    "X0 = np.ravel(X0)\n",
    "X1 = np.ravel(X1)\n",
    "B = -1 + 2 * np.random.random_sample(n_sample ** 2)\n",
    "Y = np.array([w[0], w[1] ** 2]).dot(np.stack([X0, X1])) + B"
   ]
  },
  {
   "cell_type": "code",
   "execution_count": 3,
   "metadata": {},
   "outputs": [],
   "source": [
    "def loss(args):\n",
    "    w0, w1, b = args\n",
    "    y_hat = np.array([w0, w1 ** 2]).dot(np.stack([X0, X1])) + b\n",
    "    return np.sum((Y - y_hat) ** 2) / (n_sample ** 2)"
   ]
  },
  {
   "cell_type": "code",
   "execution_count": 4,
   "metadata": {},
   "outputs": [],
   "source": [
    "def sparse_loss(args):\n",
    "    w0, w1, b = args\n",
    "    y_hat = np.array([w0, w1 ** 2]).dot(np.stack([x0, x1])) + b\n",
    "    return np.sum((y - y_hat) ** 2) / n_sample"
   ]
  },
  {
   "cell_type": "code",
   "execution_count": 5,
   "metadata": {},
   "outputs": [],
   "source": [
    "def jac(args):\n",
    "    w0, w1, b = args\n",
    "    y_hat = np.array([w0, w1 ** 2]).dot(np.stack([x0, x1])) + b\n",
    "    dy = -2 * np.sum(y - y_hat) / n_sample\n",
    "    return dy * np.array([np.sum(x0), 2 * w1 * np.sum(x1), 1])"
   ]
  },
  {
   "cell_type": "code",
   "execution_count": 6,
   "metadata": {},
   "outputs": [],
   "source": [
    "def hess(args):\n",
    "    w0, w1, b = args\n",
    "    y_hat = np.array([w0, w1 ** 2]).dot(np.stack([x0, x1])) + b\n",
    "    dy = -2 * np.sum(y - y_hat) / n_sample\n",
    "    \n",
    "    return np.array([[2 * np.sum(x0) / n_sample, 4 * w1 * np.sum(x1) / n_sample, 2 / n_sample]]).T.dot(\n",
    "        np.array([[np.sum(x0), 2 * w1 * np.sum(x1), 1]])\n",
    "    ) + dy * np.array([\n",
    "        [0, 0, 0],\n",
    "        [0, 2 * np.sum(x1), 0],\n",
    "        [0, 0, 0]\n",
    "    ])"
   ]
  },
  {
   "cell_type": "code",
   "execution_count": 7,
   "metadata": {},
   "outputs": [
    {
     "data": {
      "text/plain": [
       "      fun: 0.3327056693478594\n",
       " hess_inv: array([[ 4.17662281e-02, -4.78359440e-06, -4.33940299e-02],\n",
       "       [-4.78359440e-06,  2.03464016e-04, -4.21146315e-03],\n",
       "       [-4.33940299e-02, -4.21146315e-03,  6.31998953e-01]])\n",
       "      jac: array([ 2.08616257e-07, -7.46920705e-06,  6.70552254e-08])\n",
       "  message: 'Optimization terminated successfully.'\n",
       "     nfev: 55\n",
       "      nit: 7\n",
       "     njev: 11\n",
       "   status: 0\n",
       "  success: True\n",
       "        x: array([ 4.99941132e+00,  5.99987634e+00, -2.66286520e-03])"
      ]
     },
     "execution_count": 7,
     "metadata": {},
     "output_type": "execute_result"
    }
   ],
   "source": [
    "minimize(loss, [1, 1, 0])"
   ]
  },
  {
   "cell_type": "code",
   "execution_count": 9,
   "metadata": {},
   "outputs": [
    {
     "data": {
      "text/plain": [
       "     fun: 155.5809260120686\n",
       "     jac: array([-3.41754980e+02, -6.85069832e+03, -3.26931063e+00])\n",
       " message: 'Warning: Desired error not necessarily achieved due to precision loss.'\n",
       "    nfev: 31\n",
       "    nhev: 2\n",
       "     nit: 1\n",
       "    njev: 20\n",
       "  status: 2\n",
       " success: False\n",
       "       x: array([1.62042121e+00, 6.08659849e+00, 5.93509904e-03])"
      ]
     },
     "execution_count": 9,
     "metadata": {},
     "output_type": "execute_result"
    }
   ],
   "source": [
    "minimize(sparse_loss, [1, 2, 0], jac=jac, hess=hess, method='Newton-CG')"
   ]
  },
  {
   "cell_type": "code",
   "execution_count": null,
   "metadata": {},
   "outputs": [],
   "source": []
  }
 ],
 "metadata": {
  "kernelspec": {
   "display_name": "Python 3",
   "language": "python",
   "name": "python3"
  },
  "language_info": {
   "codemirror_mode": {
    "name": "ipython",
    "version": 3
   },
   "file_extension": ".py",
   "mimetype": "text/x-python",
   "name": "python",
   "nbconvert_exporter": "python",
   "pygments_lexer": "ipython3",
   "version": "3.7.1"
  }
 },
 "nbformat": 4,
 "nbformat_minor": 2
}
