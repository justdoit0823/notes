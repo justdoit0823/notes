{
 "cells": [
  {
   "cell_type": "code",
   "execution_count": 1,
   "metadata": {},
   "outputs": [],
   "source": [
    "import numpy as np\n",
    "from scipy.optimize import minimize\n",
    "\n",
    "import matplotlib.pyplot as plt"
   ]
  },
  {
   "cell_type": "code",
   "execution_count": 2,
   "metadata": {},
   "outputs": [],
   "source": [
    "sample_num = 200\n",
    "x = np.linspace(0, 20, num=sample_num)\n",
    "w0, b0 = [3, 4]\n",
    "bias = b0 + np.random.normal(size=sample_num)\n",
    "y = w0 * x + bias"
   ]
  },
  {
   "cell_type": "code",
   "execution_count": 3,
   "metadata": {},
   "outputs": [],
   "source": [
    "def error(args):\n",
    "    w, b = args\n",
    "    y_hat = w * x + b\n",
    "    return np.sum(np.power(y - y_hat, 2))"
   ]
  },
  {
   "cell_type": "code",
   "execution_count": 4,
   "metadata": {},
   "outputs": [
    {
     "name": "stdout",
     "output_type": "stream",
     "text": [
      "      fun: 175.92902427544323\n",
      " hess_inv: array([[ 7.42537835e-05, -7.42538070e-04],\n",
      "       [-7.42538070e-04,  9.92538412e-03]])\n",
      "      jac: array([5.7220459e-06, 0.0000000e+00])\n",
      "  message: 'Optimization terminated successfully.'\n",
      "     nfev: 36\n",
      "      nit: 6\n",
      "     njev: 9\n",
      "   status: 0\n",
      "  success: True\n",
      "        x: array([3.01053005, 3.86971532])\n"
     ]
    }
   ],
   "source": [
    "wb0 = [0, 0]\n",
    "ret = minimize(error, wb0)\n",
    "print(ret)"
   ]
  },
  {
   "cell_type": "code",
   "execution_count": 5,
   "metadata": {},
   "outputs": [
    {
     "name": "stdout",
     "output_type": "stream",
     "text": [
      "optimize linear regression arguments 3.010530054820426 3.8697153218893425\n"
     ]
    }
   ],
   "source": [
    "w, b = ret.x\n",
    "y_pre = w * x + b\n",
    "print('optimize linear regression arguments', w, b)"
   ]
  },
  {
   "cell_type": "code",
   "execution_count": 6,
   "metadata": {},
   "outputs": [
    {
     "name": "stdout",
     "output_type": "stream",
     "text": [
      "least square linear regression arguments 3.0105300831464006 3.8697150430558525\n"
     ]
    }
   ],
   "source": [
    "from numpy.linalg import inv\n",
    "\n",
    "x0 = np.ones(x.size)\n",
    "X = np.stack([x0, x], axis=1)\n",
    "\n",
    "W = inv(X.T.dot(X)).dot(X.T).dot(y)\n",
    "b_hat, w_hat = W\n",
    "y_hat = w_hat * x + b_hat + 10\n",
    "least_square_error = error([w_hat, b_hat])\n",
    "print('least square linear regression arguments', w_hat, b_hat)"
   ]
  },
  {
   "cell_type": "code",
   "execution_count": 7,
   "metadata": {},
   "outputs": [
    {
     "name": "stdout",
     "output_type": "stream",
     "text": [
      "optimize error 175.92902427544323, least square error 175.92902427543788\n"
     ]
    },
    {
     "data": {
      "text/plain": [
       "[<matplotlib.lines.Line2D at 0x10cd2e7b8>,\n",
       " <matplotlib.lines.Line2D at 0x10cd2e9b0>,\n",
       " <matplotlib.lines.Line2D at 0x10cd2ed30>]"
      ]
     },
     "execution_count": 7,
     "metadata": {},
     "output_type": "execute_result"
    },
    {
     "data": {
      "image/png": "[encoded data removed]",
      "text/plain": [
       "<Figure size 432x288 with 1 Axes>"
      ]
     },
     "metadata": {
      "needs_background": "light"
     },
     "output_type": "display_data"
    }
   ],
   "source": [
    "print(f'optimize error {ret.fun}, least square error {least_square_error}')\n",
    "plt.plot(x, y, x, y_pre, x, y_hat)"
   ]
  }
 ],
 "metadata": {
  "kernelspec": {
   "display_name": "Python 3",
   "language": "python",
   "name": "python3"
  },
  "language_info": {
   "codemirror_mode": {
    "name": "ipython",
    "version": 3
   },
   "file_extension": ".py",
   "mimetype": "text/x-python",
   "name": "python",
   "nbconvert_exporter": "python",
   "pygments_lexer": "ipython3",
   "version": "3.7.1"
  }
 },
 "nbformat": 4,
 "nbformat_minor": 2
}
