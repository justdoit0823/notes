{
 "cells": [
  {
   "cell_type": "code",
   "execution_count": 72,
   "metadata": {},
   "outputs": [],
   "source": [
    "import numpy as np\n",
    "from scipy.stats import chi2, norm"
   ]
  },
  {
   "cell_type": "code",
   "execution_count": 73,
   "metadata": {},
   "outputs": [],
   "source": [
    "sample_num = 1000\n",
    "x = norm.rvs(size=sample_num)\n",
    "x_mean = np.mean(x)"
   ]
  },
  {
   "cell_type": "code",
   "execution_count": 74,
   "metadata": {},
   "outputs": [
    {
     "name": "stdout",
     "output_type": "stream",
     "text": [
      "compute population variance within interval 0.9\n",
      "926.6311609204329 1073.6426506574246\n",
      "0.9473508478228572 1.0197348823745573\n",
      "\n",
      "compute population variance within interval 0.95\n",
      "913.3009983021134 1088.4870677259353\n",
      "0.9408688475174161 1.027149738071235\n",
      "\n",
      "compute population variance within interval 0.99\n",
      "887.6211352175186 1117.890452678641\n",
      "0.9284127635460149 1.041902088478588\n",
      "\n",
      "compute population variance within interval 0.999\n",
      "858.435084628346 1152.6642669454318\n",
      "0.9143012444580103 1.0594659324396993\n",
      "\n"
     ]
    }
   ],
   "source": [
    "intervals = [0.90, 0.95, 0.99, 0.999]\n",
    "\n",
    "for interval in intervals:\n",
    "    print(f'compute population variance within interval {interval}')\n",
    "    a, b = chi2.interval(interval, sample_num - 1)\n",
    "    print(a, b)\n",
    "    \n",
    "    s_a = np.sqrt(sum(x ** 2 - x_mean ** 2) / b)\n",
    "    s_b = np.sqrt(sum(x ** 2 - x_mean ** 2) / a)\n",
    "    print(s_a, s_b)\n",
    "    print()"
   ]
  },
  {
   "cell_type": "code",
   "execution_count": null,
   "metadata": {},
   "outputs": [],
   "source": []
  }
 ],
 "metadata": {
  "kernelspec": {
   "display_name": "Python 3",
   "language": "python",
   "name": "python3"
  },
  "language_info": {
   "codemirror_mode": {
    "name": "ipython",
    "version": 3
   },
   "file_extension": ".py",
   "mimetype": "text/x-python",
   "name": "python",
   "nbconvert_exporter": "python",
   "pygments_lexer": "ipython3",
   "version": "3.7.1"
  }
 },
 "nbformat": 4,
 "nbformat_minor": 4
}
